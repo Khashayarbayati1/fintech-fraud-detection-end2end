{
 "cells": [
  {
   "cell_type": "code",
   "execution_count": 4,
   "id": "17ac969d",
   "metadata": {},
   "outputs": [],
   "source": [
    "import sys\n",
    "import os\n",
    "\n",
    "sys.path.append(os.path.abspath(\"..\"))\n",
    "from scr.features import load_train_joined, basic_clean, save_parquet, add_time_split"
   ]
  },
  {
   "cell_type": "code",
   "execution_count": 2,
   "id": "1372508a",
   "metadata": {},
   "outputs": [
    {
     "data": {
      "application/vnd.jupyter.widget-view+json": {
       "model_id": "9c4f6f85857544c9b1de191109de0d8d",
       "version_major": 2,
       "version_minor": 0
      },
      "text/plain": [
       "FloatProgress(value=0.0, layout=Layout(width='auto'), style=ProgressStyle(bar_color='black'))"
      ]
     },
     "metadata": {},
     "output_type": "display_data"
    },
    {
     "data": {
      "text/plain": [
       "PosixPath('/Users/khashayarbayati/Documents/Uni/Coursera/fraud_detection/fintech-fraud-detection-end2end/fintech-fraud-detection-end2end/data/interim/train_clean_baseline.parquet')"
      ]
     },
     "execution_count": 2,
     "metadata": {},
     "output_type": "execute_result"
    }
   ],
   "source": [
    "df = load_train_joined()  # full train; add limit=200000 if memory is tight\n",
    "clean = basic_clean(df)\n",
    "path = save_parquet(clean, \"train_clean_baseline\")\n",
    "path"
   ]
  },
  {
   "cell_type": "code",
   "execution_count": 5,
   "id": "bc9f3039",
   "metadata": {},
   "outputs": [
    {
     "data": {
      "text/plain": [
       "(split\n",
       " train    472006\n",
       " val      118534\n",
       " Name: count, dtype: int64,\n",
       " split\n",
       " train    0.035148\n",
       " val      0.034361\n",
       " Name: isFraud, dtype: float64)"
      ]
     },
     "execution_count": 5,
     "metadata": {},
     "output_type": "execute_result"
    }
   ],
   "source": [
    "# pick a cutoff: e.g., the 80th percentile day\n",
    "cut = int(clean[\"day\"].quantile(0.80))\n",
    "clean_split = add_time_split(clean, cut)\n",
    "\n",
    "clean_split[\"split\"].value_counts(), clean_split.groupby(\"split\")[\"isFraud\"].mean()\n"
   ]
  },
  {
   "cell_type": "code",
   "execution_count": null,
   "id": "2d8104b4",
   "metadata": {},
   "outputs": [],
   "source": []
  }
 ],
 "metadata": {
  "kernelspec": {
   "display_name": "retail_aug_25",
   "language": "python",
   "name": "python3"
  },
  "language_info": {
   "codemirror_mode": {
    "name": "ipython",
    "version": 3
   },
   "file_extension": ".py",
   "mimetype": "text/x-python",
   "name": "python",
   "nbconvert_exporter": "python",
   "pygments_lexer": "ipython3",
   "version": "3.10.18"
  }
 },
 "nbformat": 4,
 "nbformat_minor": 5
}
