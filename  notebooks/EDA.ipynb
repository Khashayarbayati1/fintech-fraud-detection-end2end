{
 "cells": [
  {
   "cell_type": "markdown",
   "id": "bfe8e7ca",
   "metadata": {},
   "source": [
    "#### Imports & paths"
   ]
  },
  {
   "cell_type": "code",
   "execution_count": null,
   "id": "5ac49ff1",
   "metadata": {},
   "outputs": [],
   "source": [
    "# Imports\n",
    "import numpy as np\n",
    "import duckdb\n",
    "import pandas as pd\n",
    "from pathlib import Path\n",
    "import sys\n",
    "import os\n",
    "import matplotlib.pyplot as plt\n",
    "\n",
    "if \"__file__\" in globals():\n",
    "    ROOT = Path(__file__).resolve().parent.parent\n",
    "else:\n",
    "    ROOT = Path(os.getcwd()).parent\n",
    "\n",
    "RAW = ROOT / \"data\" / \"raw\"\n",
    "DB_PATH = ROOT / \"data\" / \"ieee_fraud.duckdb\"\n",
    "\n",
    "conn = duckdb.connect(str(DB_PATH))"
   ]
  },
  {
   "cell_type": "markdown",
   "id": "6c2d93d5",
   "metadata": {},
   "source": [
    "#### Quick sanity: row counts & join coverage"
   ]
  },
  {
   "cell_type": "code",
   "execution_count": 14,
   "id": "b68fb16a",
   "metadata": {},
   "outputs": [
    {
     "data": {
      "text/plain": [
       "(               table       n\n",
       " 0  train_transaction  590540\n",
       " 1     train_identity  144233\n",
       " 2   test_transaction  506691\n",
       " 3      test_identity  141907,\n",
       "    with_identity   total\n",
       " 0         144233  590540)"
      ]
     },
     "execution_count": 14,
     "metadata": {},
     "output_type": "execute_result"
    }
   ],
   "source": [
    "counts = conn.execute(\"\"\"\n",
    "                      SELECT 'train_transaction' AS table, COUNT(*) AS n FROM train_transaction\n",
    "                      UNION ALL\n",
    "                      SELECT 'train_identity' AS table, COUNT(*) FROM train_identity\n",
    "                      UNION ALL\n",
    "                      SELECT 'test_transaction' AS table, COUNT(*) AS n FROM test_transaction\n",
    "                      UNION ALL\n",
    "                      SELECT 'test_identity' AS table, COUNT(*) FROM test_identity\n",
    "                      \"\"\").df()\n",
    "\n",
    "coverage = conn.execute(\"\"\"\n",
    "                        SELECT\n",
    "                            COUNT(*) AS with_identity,\n",
    "                            (SELECT COUNT(*) FROM train_transaction) AS total\n",
    "                        FROM train_transaction t\n",
    "                        LEFT JOIN train_identity i USING (transactionID)\n",
    "                        WHERE i.TransactionID IS NOT NULL\n",
    "                        \"\"\").df()\n",
    "\n",
    "counts, coverage"
   ]
  },
  {
   "cell_type": "markdown",
   "id": "0fcf5ad1",
   "metadata": {},
   "source": [
    "#### Fraud rate & class imbalance"
   ]
  },
  {
   "cell_type": "code",
   "execution_count": 21,
   "id": "7562ff4a",
   "metadata": {},
   "outputs": [
    {
     "data": {
      "application/vnd.microsoft.datawrangler.viewer.v0+json": {
       "columns": [
        {
         "name": "index",
         "rawType": "int64",
         "type": "integer"
        },
        {
         "name": "n_rows",
         "rawType": "int64",
         "type": "integer"
        },
        {
         "name": "n_fraud",
         "rawType": "float64",
         "type": "float"
        },
        {
         "name": "fraud_rate",
         "rawType": "float64",
         "type": "float"
        }
       ],
       "ref": "84842baa-b563-4889-ae22-45278b322f1a",
       "rows": [
        [
         "0",
         "590540",
         "20663.0",
         "0.03499000914417313"
        ]
       ],
       "shape": {
        "columns": 3,
        "rows": 1
       }
      },
      "text/html": [
       "<div>\n",
       "<style scoped>\n",
       "    .dataframe tbody tr th:only-of-type {\n",
       "        vertical-align: middle;\n",
       "    }\n",
       "\n",
       "    .dataframe tbody tr th {\n",
       "        vertical-align: top;\n",
       "    }\n",
       "\n",
       "    .dataframe thead th {\n",
       "        text-align: right;\n",
       "    }\n",
       "</style>\n",
       "<table border=\"1\" class=\"dataframe\">\n",
       "  <thead>\n",
       "    <tr style=\"text-align: right;\">\n",
       "      <th></th>\n",
       "      <th>n_rows</th>\n",
       "      <th>n_fraud</th>\n",
       "      <th>fraud_rate</th>\n",
       "    </tr>\n",
       "  </thead>\n",
       "  <tbody>\n",
       "    <tr>\n",
       "      <th>0</th>\n",
       "      <td>590540</td>\n",
       "      <td>20663.0</td>\n",
       "      <td>0.03499</td>\n",
       "    </tr>\n",
       "  </tbody>\n",
       "</table>\n",
       "</div>"
      ],
      "text/plain": [
       "   n_rows  n_fraud  fraud_rate\n",
       "0  590540  20663.0     0.03499"
      ]
     },
     "execution_count": 21,
     "metadata": {},
     "output_type": "execute_result"
    }
   ],
   "source": [
    "fraud_stats = conn.execute(\"\"\" \n",
    "                           SELECT \n",
    "                                COUNT(*) AS n_rows,\n",
    "                                SUM(isFraud) AS n_fraud,\n",
    "                                AVG(isFraud) AS fraud_rate\n",
    "                            FROM train_transaction\n",
    "                           \"\"\").df()\n",
    "fraud_stats"
   ]
  },
  {
   "cell_type": "markdown",
   "id": "ecc16056",
   "metadata": {},
   "source": [
    "#### Basic distributions (amount & time)"
   ]
  },
  {
   "cell_type": "code",
   "execution_count": 26,
   "id": "b46403ac",
   "metadata": {},
   "outputs": [
    {
     "data": {
      "image/png": "[encoded data removed]",
      "text/plain": [
       "<Figure size 640x480 with 1 Axes>"
      ]
     },
     "metadata": {},
     "output_type": "display_data"
    },
    {
     "data": {
      "image/png": "[encoded data removed]",
      "text/plain": [
       "<Figure size 640x480 with 1 Axes>"
      ]
     },
     "metadata": {},
     "output_type": "display_data"
    }
   ],
   "source": [
    "amt = conn.execute(\"\"\"\n",
    "                   SELECT TransactionAmt FROM train_transaction\n",
    "                   WHERE TransactionAmt IS NOT NULL\n",
    "                   \"\"\").df()\n",
    "\n",
    "dt = conn.execute(\"\"\"\n",
    "                  SELECT TransactionDT from train_transaction\n",
    "                  WHERE TransactionDT IS NOT NULL\n",
    "                  ORDER BY TransactionDT\n",
    "                  \"\"\").df()\n",
    "\n",
    "fig, ax = plt.subplots()\n",
    "ax.hist(np.log1p(amt[\"TransactionAmt\"]), bins=80)\n",
    "ax.set_title(\"log1p(TransactionAmt)\")\n",
    "plt.show()\n",
    "\n",
    "fig, ax = plt.subplots()\n",
    "ax.plot(dt[\"TransactionDT\"].values)\n",
    "ax.set_title(\"TransactionDT over rows (proxy for time)\")\n",
    "plt.show()\n",
    "\n"
   ]
  },
  {
   "cell_type": "markdown",
   "id": "7b8fb4f0",
   "metadata": {},
   "source": [
    "### Missingness profile (top 30)"
   ]
  },
  {
   "cell_type": "code",
   "execution_count": 28,
   "id": "8f2483e6",
   "metadata": {},
   "outputs": [
    {
     "data": {
      "application/vnd.jupyter.widget-view+json": {
       "model_id": "ee1e1f8b835541fdb1def1d36b198607",
       "version_major": 2,
       "version_minor": 0
      },
      "text/plain": [
       "FloatProgress(value=0.0, layout=Layout(width='auto'), style=ProgressStyle(bar_color='black'))"
      ]
     },
     "metadata": {},
     "output_type": "display_data"
    },
    {
     "data": {
      "application/vnd.microsoft.datawrangler.viewer.v0+json": {
       "columns": [
        {
         "name": "index",
         "rawType": "object",
         "type": "string"
        },
        {
         "name": "missing_rate",
         "rawType": "float64",
         "type": "float"
        }
       ],
       "ref": "25781d69-9525-4851-a9e8-0d0e8e90ce23",
       "rows": [
        [
         "id_24",
         "0.9919615944728554"
        ],
        [
         "id_25",
         "0.9913096487960172"
        ],
        [
         "id_07",
         "0.9912707013919464"
        ],
        [
         "id_08",
         "0.9912707013919464"
        ],
        [
         "id_21",
         "0.9912639279303688"
        ],
        [
         "id_26",
         "0.9912571544687913"
        ],
        [
         "id_27",
         "0.9912469942764249"
        ],
        [
         "id_23",
         "0.9912469942764249"
        ],
        [
         "id_22",
         "0.9912469942764249"
        ],
        [
         "dist2",
         "0.9362837403054831"
        ],
        [
         "D7",
         "0.9340992989467267"
        ],
        [
         "id_18",
         "0.9236072069631185"
        ],
        [
         "D13",
         "0.8950926270870728"
        ],
        [
         "D14",
         "0.8946946862193924"
        ],
        [
         "D12",
         "0.8904104717715988"
        ],
        [
         "id_03",
         "0.8876892335828225"
        ],
        [
         "id_04",
         "0.8876892335828225"
        ],
        [
         "D6",
         "0.8760676668811597"
        ],
        [
         "id_33",
         "0.8758949436109323"
        ],
        [
         "id_10",
         "0.8731229044603245"
        ],
        [
         "id_09",
         "0.8731229044603245"
        ],
        [
         "D9",
         "0.8731229044603245"
        ],
        [
         "D8",
         "0.8731229044603245"
        ],
        [
         "id_30",
         "0.868654113184543"
        ],
        [
         "id_32",
         "0.8686185525112609"
        ],
        [
         "id_34",
         "0.8682477054898906"
        ],
        [
         "id_14",
         "0.8644562603718631"
        ],
        [
         "V142",
         "0.8612371727571375"
        ],
        [
         "V158",
         "0.8612371727571375"
        ],
        [
         "V140",
         "0.8612371727571375"
        ]
       ],
       "shape": {
        "columns": 1,
        "rows": 30
       }
      },
      "text/html": [
       "<div>\n",
       "<style scoped>\n",
       "    .dataframe tbody tr th:only-of-type {\n",
       "        vertical-align: middle;\n",
       "    }\n",
       "\n",
       "    .dataframe tbody tr th {\n",
       "        vertical-align: top;\n",
       "    }\n",
       "\n",
       "    .dataframe thead th {\n",
       "        text-align: right;\n",
       "    }\n",
       "</style>\n",
       "<table border=\"1\" class=\"dataframe\">\n",
       "  <thead>\n",
       "    <tr style=\"text-align: right;\">\n",
       "      <th></th>\n",
       "      <th>missing_rate</th>\n",
       "    </tr>\n",
       "  </thead>\n",
       "  <tbody>\n",
       "    <tr>\n",
       "      <th>id_24</th>\n",
       "      <td>0.991962</td>\n",
       "    </tr>\n",
       "    <tr>\n",
       "      <th>id_25</th>\n",
       "      <td>0.991310</td>\n",
       "    </tr>\n",
       "    <tr>\n",
       "      <th>id_07</th>\n",
       "      <td>0.991271</td>\n",
       "    </tr>\n",
       "    <tr>\n",
       "      <th>id_08</th>\n",
       "      <td>0.991271</td>\n",
       "    </tr>\n",
       "    <tr>\n",
       "      <th>id_21</th>\n",
       "      <td>0.991264</td>\n",
       "    </tr>\n",
       "    <tr>\n",
       "      <th>id_26</th>\n",
       "      <td>0.991257</td>\n",
       "    </tr>\n",
       "    <tr>\n",
       "      <th>id_27</th>\n",
       "      <td>0.991247</td>\n",
       "    </tr>\n",
       "    <tr>\n",
       "      <th>id_23</th>\n",
       "      <td>0.991247</td>\n",
       "    </tr>\n",
       "    <tr>\n",
       "      <th>id_22</th>\n",
       "      <td>0.991247</td>\n",
       "    </tr>\n",
       "    <tr>\n",
       "      <th>dist2</th>\n",
       "      <td>0.936284</td>\n",
       "    </tr>\n",
       "    <tr>\n",
       "      <th>D7</th>\n",
       "      <td>0.934099</td>\n",
       "    </tr>\n",
       "    <tr>\n",
       "      <th>id_18</th>\n",
       "      <td>0.923607</td>\n",
       "    </tr>\n",
       "    <tr>\n",
       "      <th>D13</th>\n",
       "      <td>0.895093</td>\n",
       "    </tr>\n",
       "    <tr>\n",
       "      <th>D14</th>\n",
       "      <td>0.894695</td>\n",
       "    </tr>\n",
       "    <tr>\n",
       "      <th>D12</th>\n",
       "      <td>0.890410</td>\n",
       "    </tr>\n",
       "    <tr>\n",
       "      <th>id_03</th>\n",
       "      <td>0.887689</td>\n",
       "    </tr>\n",
       "    <tr>\n",
       "      <th>id_04</th>\n",
       "      <td>0.887689</td>\n",
       "    </tr>\n",
       "    <tr>\n",
       "      <th>D6</th>\n",
       "      <td>0.876068</td>\n",
       "    </tr>\n",
       "    <tr>\n",
       "      <th>id_33</th>\n",
       "      <td>0.875895</td>\n",
       "    </tr>\n",
       "    <tr>\n",
       "      <th>id_10</th>\n",
       "      <td>0.873123</td>\n",
       "    </tr>\n",
       "    <tr>\n",
       "      <th>id_09</th>\n",
       "      <td>0.873123</td>\n",
       "    </tr>\n",
       "    <tr>\n",
       "      <th>D9</th>\n",
       "      <td>0.873123</td>\n",
       "    </tr>\n",
       "    <tr>\n",
       "      <th>D8</th>\n",
       "      <td>0.873123</td>\n",
       "    </tr>\n",
       "    <tr>\n",
       "      <th>id_30</th>\n",
       "      <td>0.868654</td>\n",
       "    </tr>\n",
       "    <tr>\n",
       "      <th>id_32</th>\n",
       "      <td>0.868619</td>\n",
       "    </tr>\n",
       "    <tr>\n",
       "      <th>id_34</th>\n",
       "      <td>0.868248</td>\n",
       "    </tr>\n",
       "    <tr>\n",
       "      <th>id_14</th>\n",
       "      <td>0.864456</td>\n",
       "    </tr>\n",
       "    <tr>\n",
       "      <th>V142</th>\n",
       "      <td>0.861237</td>\n",
       "    </tr>\n",
       "    <tr>\n",
       "      <th>V158</th>\n",
       "      <td>0.861237</td>\n",
       "    </tr>\n",
       "    <tr>\n",
       "      <th>V140</th>\n",
       "      <td>0.861237</td>\n",
       "    </tr>\n",
       "  </tbody>\n",
       "</table>\n",
       "</div>"
      ],
      "text/plain": [
       "       missing_rate\n",
       "id_24      0.991962\n",
       "id_25      0.991310\n",
       "id_07      0.991271\n",
       "id_08      0.991271\n",
       "id_21      0.991264\n",
       "id_26      0.991257\n",
       "id_27      0.991247\n",
       "id_23      0.991247\n",
       "id_22      0.991247\n",
       "dist2      0.936284\n",
       "D7         0.934099\n",
       "id_18      0.923607\n",
       "D13        0.895093\n",
       "D14        0.894695\n",
       "D12        0.890410\n",
       "id_03      0.887689\n",
       "id_04      0.887689\n",
       "D6         0.876068\n",
       "id_33      0.875895\n",
       "id_10      0.873123\n",
       "id_09      0.873123\n",
       "D9         0.873123\n",
       "D8         0.873123\n",
       "id_30      0.868654\n",
       "id_32      0.868619\n",
       "id_34      0.868248\n",
       "id_14      0.864456\n",
       "V142       0.861237\n",
       "V158       0.861237\n",
       "V140       0.861237"
      ]
     },
     "execution_count": 28,
     "metadata": {},
     "output_type": "execute_result"
    }
   ],
   "source": [
    "df = conn.execute(\"\"\"\n",
    "                  SELECT * FROM train_joined\n",
    "                  \"\"\").df()\n",
    "null_pct = df.isna().mean().sort_values(ascending=False)\n",
    "null_pct.head(30).to_frame(\"missing_rate\")"
   ]
  },
  {
   "cell_type": "markdown",
   "id": "f4d0f6af",
   "metadata": {},
   "source": [
    "### Derive minimal time frequency (hour, day, weekday)"
   ]
  },
  {
   "cell_type": "code",
   "execution_count": 29,
   "id": "ab218d31",
   "metadata": {},
   "outputs": [
    {
     "data": {
      "application/vnd.microsoft.datawrangler.viewer.v0+json": {
       "columns": [
        {
         "name": "index",
         "rawType": "object",
         "type": "string"
        },
        {
         "name": "hour",
         "rawType": "float64",
         "type": "float"
        },
        {
         "name": "day",
         "rawType": "float64",
         "type": "float"
        },
        {
         "name": "weekday",
         "rawType": "float64",
         "type": "float"
        }
       ],
       "ref": "7de5e5a3-a15b-41f7-a33f-5985f1fe1dba",
       "rows": [
        [
         "count",
         "590540.0",
         "590540.0",
         "590540.0"
        ],
        [
         "mean",
         "13.861922985741863",
         "84.72919869949537",
         "2.9818149490297015"
        ],
        [
         "std",
         "7.607151624095107",
         "53.43727657389199",
         "2.0490802382165345"
        ],
        [
         "min",
         "0.0",
         "1.0",
         "0.0"
        ],
        [
         "25%",
         "6.0",
         "35.0",
         "1.0"
        ],
        [
         "50%",
         "16.0",
         "84.0",
         "3.0"
        ],
        [
         "75%",
         "20.0",
         "130.0",
         "5.0"
        ],
        [
         "max",
         "23.0",
         "182.0",
         "6.0"
        ]
       ],
       "shape": {
        "columns": 3,
        "rows": 8
       }
      },
      "text/html": [
       "<div>\n",
       "<style scoped>\n",
       "    .dataframe tbody tr th:only-of-type {\n",
       "        vertical-align: middle;\n",
       "    }\n",
       "\n",
       "    .dataframe tbody tr th {\n",
       "        vertical-align: top;\n",
       "    }\n",
       "\n",
       "    .dataframe thead th {\n",
       "        text-align: right;\n",
       "    }\n",
       "</style>\n",
       "<table border=\"1\" class=\"dataframe\">\n",
       "  <thead>\n",
       "    <tr style=\"text-align: right;\">\n",
       "      <th></th>\n",
       "      <th>hour</th>\n",
       "      <th>day</th>\n",
       "      <th>weekday</th>\n",
       "    </tr>\n",
       "  </thead>\n",
       "  <tbody>\n",
       "    <tr>\n",
       "      <th>count</th>\n",
       "      <td>590540.000000</td>\n",
       "      <td>590540.000000</td>\n",
       "      <td>590540.000000</td>\n",
       "    </tr>\n",
       "    <tr>\n",
       "      <th>mean</th>\n",
       "      <td>13.861923</td>\n",
       "      <td>84.729199</td>\n",
       "      <td>2.981815</td>\n",
       "    </tr>\n",
       "    <tr>\n",
       "      <th>std</th>\n",
       "      <td>7.607152</td>\n",
       "      <td>53.437277</td>\n",
       "      <td>2.049080</td>\n",
       "    </tr>\n",
       "    <tr>\n",
       "      <th>min</th>\n",
       "      <td>0.000000</td>\n",
       "      <td>1.000000</td>\n",
       "      <td>0.000000</td>\n",
       "    </tr>\n",
       "    <tr>\n",
       "      <th>25%</th>\n",
       "      <td>6.000000</td>\n",
       "      <td>35.000000</td>\n",
       "      <td>1.000000</td>\n",
       "    </tr>\n",
       "    <tr>\n",
       "      <th>50%</th>\n",
       "      <td>16.000000</td>\n",
       "      <td>84.000000</td>\n",
       "      <td>3.000000</td>\n",
       "    </tr>\n",
       "    <tr>\n",
       "      <th>75%</th>\n",
       "      <td>20.000000</td>\n",
       "      <td>130.000000</td>\n",
       "      <td>5.000000</td>\n",
       "    </tr>\n",
       "    <tr>\n",
       "      <th>max</th>\n",
       "      <td>23.000000</td>\n",
       "      <td>182.000000</td>\n",
       "      <td>6.000000</td>\n",
       "    </tr>\n",
       "  </tbody>\n",
       "</table>\n",
       "</div>"
      ],
      "text/plain": [
       "                hour            day        weekday\n",
       "count  590540.000000  590540.000000  590540.000000\n",
       "mean       13.861923      84.729199       2.981815\n",
       "std         7.607152      53.437277       2.049080\n",
       "min         0.000000       1.000000       0.000000\n",
       "25%         6.000000      35.000000       1.000000\n",
       "50%        16.000000      84.000000       3.000000\n",
       "75%        20.000000     130.000000       5.000000\n",
       "max        23.000000     182.000000       6.000000"
      ]
     },
     "execution_count": 29,
     "metadata": {},
     "output_type": "execute_result"
    }
   ],
   "source": [
    "# TransactionDT is second from a reference. We can convert it to a pseudo datetime by picking an epoch.\n",
    "# We only need relative features (hour/day/weekday), so exact origin doesn't matter.\n",
    "dt0 = pd.Timestamp(\"2017-01-01\") # arbitrary anchor\n",
    "df[\"dt\"] = dt0 + pd.to_timedelta(df[\"TransactionDT\"].fillna(0), unit=\"s\")\n",
    "df[\"hour\"] = df[\"dt\"].dt.hour\n",
    "df[\"day\"] = (df[\"dt\"].dt.normalize() - dt0.normalize()).dt.days\n",
    "df[\"weekday\"] = df[\"dt\"].dt.weekday\n",
    "\n",
    "df[[\"hour\",\"day\",\"weekday\"]].describe()"
   ]
  },
  {
   "cell_type": "markdown",
   "id": "2a4a9c86",
   "metadata": {},
   "source": [
    "#### Quick fraud patterns by hour/weekday"
   ]
  },
  {
   "cell_type": "code",
   "execution_count": null,
   "id": "bb09ec8d",
   "metadata": {},
   "outputs": [
    {
     "data": {
      "image/png": "[encoded data removed]",
      "text/plain": [
       "<Figure size 640x480 with 1 Axes>"
      ]
     },
     "metadata": {},
     "output_type": "display_data"
    },
    {
     "data": {
      "image/png": "[encoded data removed]",
      "text/plain": [
       "<Figure size 640x480 with 1 Axes>"
      ]
     },
     "metadata": {},
     "output_type": "display_data"
    },
    {
     "ename": "",
     "evalue": "",
     "output_type": "error",
     "traceback": [
      "\u001b[1;31mThe Kernel crashed while executing code in the current cell or a previous cell. \n",
      "\u001b[1;31mPlease review the code in the cell(s) to identify a possible cause of the failure. \n",
      "\u001b[1;31mClick <a href='https://aka.ms/vscodeJupyterKernelCrash'>here</a> for more info. \n",
      "\u001b[1;31mView Jupyter <a href='command:jupyter.viewOutput'>log</a> for further details."
     ]
    }
   ],
   "source": [
    "by_hour = df.groupby(\"hour\")[\"isFraud\"].mean()\n",
    "by_weekday = df.groupby(\"weekday\")[\"isFraud\"].mean()\n",
    "\n",
    "fig, ax = plt.subplots()\n",
    "by_hour.plot(kind=\"bar\", ax=ax)\n",
    "ax.set_title(\"Fraud rate by hour\")\n",
    "plt.show()\n",
    "\n",
    "fig, ax = plt.subplots()\n",
    "by_weekday.plot(kind=\"bar\", ax=ax)\n",
    "ax.set_title(\"Fraud rate by weekday\")\n",
    "plt.show()"
   ]
  },
  {
   "cell_type": "code",
   "execution_count": null,
   "id": "b0a469d3",
   "metadata": {},
   "outputs": [],
   "source": []
  }
 ],
 "metadata": {
  "kernelspec": {
   "display_name": "retail_aug_25",
   "language": "python",
   "name": "python3"
  },
  "language_info": {
   "codemirror_mode": {
    "name": "ipython",
    "version": 3
   },
   "file_extension": ".py",
   "mimetype": "text/x-python",
   "name": "python",
   "nbconvert_exporter": "python",
   "pygments_lexer": "ipython3",
   "version": "3.10.18"
  }
 },
 "nbformat": 4,
 "nbformat_minor": 5
}
